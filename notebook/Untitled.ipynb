{
 "cells": [
  {
   "cell_type": "code",
   "execution_count": 16,
   "metadata": {},
   "outputs": [],
   "source": [
    "import os\n",
    "import sys\n",
    "sys.path.insert(0, os.path.abspath('../'))"
   ]
  },
  {
   "cell_type": "markdown",
   "metadata": {},
   "source": [
    "| <a href='#gondalf'>Gondalf</a> | Schnurzdalf |\n",
    "|--------------------------------|-------------|\n",
    "|<a href='#bolzo'>Bolzo</a>      | Nott        |\n",
    "| [Schnolzo](#schnolzo)          | Jester      |"
   ]
  },
  {
   "cell_type": "code",
   "execution_count": 3,
   "metadata": {},
   "outputs": [],
   "source": [
    "import character"
   ]
  },
  {
   "cell_type": "code",
   "execution_count": 4,
   "metadata": {},
   "outputs": [
    {
     "data": {
      "text/plain": [
       "\n",
       "Gondalf, 88, alt, \n",
       "uff"
      ]
     },
     "execution_count": 4,
     "metadata": {},
     "output_type": "execute_result"
    }
   ],
   "source": [
    "character.Character.from_json('{\"name\" : \"Gondalf\", \"alter\" : 88, \"aussehen\" : \"alt\", \"beschreibung\" : \"uff\"}')"
   ]
  },
  {
   "cell_type": "code",
   "execution_count": 5,
   "metadata": {},
   "outputs": [],
   "source": [
    "import json\n",
    "all_c = []\n",
    "with open('characters.json', 'r') as c_file:\n",
    "    cs = json.loads(c_file.read())\n",
    "    for c in cs:\n",
    "        all_c.append(character.Character(**c))"
   ]
  },
  {
   "cell_type": "code",
   "execution_count": 6,
   "metadata": {},
   "outputs": [
    {
     "name": "stdout",
     "output_type": "stream",
     "text": [
      "[\n",
      "Bolzo Trump, 19, komisch, \n",
      "Taschendieb im Hafen, \n",
      "Schnolzo Trump, 34, gutaussehend, \n",
      "Vater des Taschendiebs im Hafen]\n"
     ]
    }
   ],
   "source": [
    "print(all_c)"
   ]
  },
  {
   "cell_type": "markdown",
   "metadata": {},
   "source": [
    "## Gondalf \n",
    "<a id='gondalf'></a>"
   ]
  },
  {
   "cell_type": "code",
   "execution_count": 7,
   "metadata": {
    "slideshow": {
     "slide_type": "-"
    }
   },
   "outputs": [
    {
     "data": {
      "text/plain": [
       "\n",
       "Bolzo Trump, 19, komisch, \n",
       "Taschendieb im Hafen"
      ]
     },
     "execution_count": 7,
     "metadata": {},
     "output_type": "execute_result"
    }
   ],
   "source": [
    "next(x for x in all_c if x.name == \"Bolzo Trump\")"
   ]
  },
  {
   "cell_type": "markdown",
   "metadata": {},
   "source": [
    "## Bolzo Trump\n",
    "<a id='bolzo'></a>\n",
    "\n",
    "hier mache ich ein bisschen mehr text rein!\n",
    "\n"
   ]
  },
  {
   "cell_type": "markdown",
   "metadata": {},
   "source": [
    "## Schnolzo\n",
    "Okay, hier kommt jetzt noch mehr\n",
    "<a id='schnolzo'></a>"
   ]
  }
 ],
 "metadata": {
  "kernelspec": {
   "display_name": "Python 3",
   "language": "python",
   "name": "python3"
  },
  "language_info": {
   "codemirror_mode": {
    "name": "ipython",
    "version": 3
   },
   "file_extension": ".py",
   "mimetype": "text/x-python",
   "name": "python",
   "nbconvert_exporter": "python",
   "pygments_lexer": "ipython3",
   "version": "3.6.7"
  }
 },
 "nbformat": 4,
 "nbformat_minor": 2
}
